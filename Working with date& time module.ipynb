{
 "cells": [
  {
   "cell_type": "code",
   "execution_count": 1,
   "metadata": {},
   "outputs": [],
   "source": [
    "import pandas as pd"
   ]
  },
  {
   "cell_type": "code",
   "execution_count": 2,
   "metadata": {},
   "outputs": [],
   "source": [
    "import datetime as dt"
   ]
  },
  {
   "cell_type": "code",
   "execution_count": 3,
   "metadata": {},
   "outputs": [],
   "source": [
    "dob=dt.date(1995,7,13)"
   ]
  },
  {
   "cell_type": "code",
   "execution_count": 4,
   "metadata": {},
   "outputs": [
    {
     "data": {
      "text/plain": [
       "datetime.date(1995, 7, 13)"
      ]
     },
     "execution_count": 4,
     "metadata": {},
     "output_type": "execute_result"
    }
   ],
   "source": [
    "dob"
   ]
  },
  {
   "cell_type": "code",
   "execution_count": 5,
   "metadata": {},
   "outputs": [
    {
     "data": {
      "text/plain": [
       "1995"
      ]
     },
     "execution_count": 5,
     "metadata": {},
     "output_type": "execute_result"
    }
   ],
   "source": [
    "dob.year"
   ]
  },
  {
   "cell_type": "code",
   "execution_count": 6,
   "metadata": {},
   "outputs": [
    {
     "data": {
      "text/plain": [
       "13"
      ]
     },
     "execution_count": 6,
     "metadata": {},
     "output_type": "execute_result"
    }
   ],
   "source": [
    "dob.day"
   ]
  },
  {
   "cell_type": "code",
   "execution_count": 7,
   "metadata": {},
   "outputs": [
    {
     "data": {
      "text/plain": [
       "7"
      ]
     },
     "execution_count": 7,
     "metadata": {},
     "output_type": "execute_result"
    }
   ],
   "source": [
    "dob.month"
   ]
  },
  {
   "cell_type": "code",
   "execution_count": 12,
   "metadata": {},
   "outputs": [],
   "source": [
    "dom=dt.datetime(1995,7,13,5,15,12)"
   ]
  },
  {
   "cell_type": "code",
   "execution_count": 13,
   "metadata": {},
   "outputs": [
    {
     "data": {
      "text/plain": [
       "datetime.datetime(1995, 7, 13, 5, 15, 12)"
      ]
     },
     "execution_count": 13,
     "metadata": {},
     "output_type": "execute_result"
    }
   ],
   "source": [
    "dom"
   ]
  },
  {
   "cell_type": "code",
   "execution_count": 10,
   "metadata": {},
   "outputs": [
    {
     "data": {
      "text/plain": [
       "5"
      ]
     },
     "execution_count": 10,
     "metadata": {},
     "output_type": "execute_result"
    }
   ],
   "source": [
    "dom.hour"
   ]
  },
  {
   "cell_type": "code",
   "execution_count": 11,
   "metadata": {},
   "outputs": [
    {
     "data": {
      "text/plain": [
       "15"
      ]
     },
     "execution_count": 11,
     "metadata": {},
     "output_type": "execute_result"
    }
   ],
   "source": [
    "dom.minute"
   ]
  },
  {
   "cell_type": "code",
   "execution_count": 14,
   "metadata": {},
   "outputs": [
    {
     "data": {
      "text/plain": [
       "12"
      ]
     },
     "execution_count": 14,
     "metadata": {},
     "output_type": "execute_result"
    }
   ],
   "source": [
    "dom.second"
   ]
  },
  {
   "cell_type": "code",
   "execution_count": 15,
   "metadata": {},
   "outputs": [
    {
     "data": {
      "text/plain": [
       "'1995-07-13'"
      ]
     },
     "execution_count": 15,
     "metadata": {},
     "output_type": "execute_result"
    }
   ],
   "source": [
    "str(dob)"
   ]
  },
  {
   "cell_type": "code",
   "execution_count": 16,
   "metadata": {},
   "outputs": [
    {
     "data": {
      "text/plain": [
       "'1995-07-13 05:15:12'"
      ]
     },
     "execution_count": 16,
     "metadata": {},
     "output_type": "execute_result"
    }
   ],
   "source": [
    "str(dom)"
   ]
  },
  {
   "cell_type": "markdown",
   "metadata": {},
   "source": [
    "## timestamp"
   ]
  },
  {
   "cell_type": "code",
   "execution_count": 28,
   "metadata": {},
   "outputs": [
    {
     "data": {
      "text/plain": [
       "Timestamp('1995-07-13 10:45:56')"
      ]
     },
     "execution_count": 28,
     "metadata": {},
     "output_type": "execute_result"
    }
   ],
   "source": [
    "pd.Timestamp(\"1995-07-13\")\n",
    "pd.Timestamp(\"1995, 07, 13\")\n",
    "pd.Timestamp(\"1995/07/13\")\n",
    "pd.Timestamp(\"13/7/1995\")\n",
    "pd.Timestamp(\"7/13/1995\")\n",
    "pd.Timestamp(\"1995-07-13 10:45:56\")\n",
    "pd.Timestamp(\"1995-07-13 10:45:56 PM\")\n",
    "pd.Timestamp(\"1995-07-13 10:45:56 AM\")"
   ]
  },
  {
   "cell_type": "code",
   "execution_count": 29,
   "metadata": {
    "collapsed": true
   },
   "outputs": [
    {
     "data": {
      "text/plain": [
       "Timestamp('1995-07-13 05:15:12')"
      ]
     },
     "execution_count": 29,
     "metadata": {},
     "output_type": "execute_result"
    }
   ],
   "source": [
    "pd.Timestamp(dt.datetime(1995,7,13,5,15,12))     #timestamp is for single value"
   ]
  },
  {
   "cell_type": "markdown",
   "metadata": {},
   "source": [
    "## datetimeindex "
   ]
  },
  {
   "cell_type": "code",
   "execution_count": 30,
   "metadata": {},
   "outputs": [],
   "source": [
    "lis1=[\"13/07/1995\",\"12/8/1992\",\"10/5/2019\"]"
   ]
  },
  {
   "cell_type": "code",
   "execution_count": 32,
   "metadata": {
    "collapsed": true
   },
   "outputs": [
    {
     "data": {
      "text/plain": [
       "DatetimeIndex(['1995-07-13', '1992-12-08', '2019-10-05'], dtype='datetime64[ns]', freq=None)"
      ]
     },
     "execution_count": 32,
     "metadata": {},
     "output_type": "execute_result"
    }
   ],
   "source": [
    "pd.DatetimeIndex(lis1)        #datetimeindex is for a list"
   ]
  },
  {
   "cell_type": "code",
   "execution_count": 33,
   "metadata": {},
   "outputs": [],
   "source": [
    "lis2=[dt.date(1995,7,13),dt.date(1992,7,18)]"
   ]
  },
  {
   "cell_type": "code",
   "execution_count": 34,
   "metadata": {
    "collapsed": true
   },
   "outputs": [
    {
     "data": {
      "text/plain": [
       "DatetimeIndex(['1995-07-13', '1992-07-18'], dtype='datetime64[ns]', freq=None)"
      ]
     },
     "execution_count": 34,
     "metadata": {},
     "output_type": "execute_result"
    }
   ],
   "source": [
    "pd.DatetimeIndex(lis2)"
   ]
  },
  {
   "cell_type": "code",
   "execution_count": 35,
   "metadata": {
    "collapsed": true
   },
   "outputs": [
    {
     "data": {
      "text/plain": [
       "13/07/1995    100\n",
       "12/8/1992     200\n",
       "10/5/2019     300\n",
       "dtype: int64"
      ]
     },
     "execution_count": 35,
     "metadata": {},
     "output_type": "execute_result"
    }
   ],
   "source": [
    "s1=[100,200,300]\n",
    "pd.Series(s1,index=lis1)"
   ]
  },
  {
   "cell_type": "markdown",
   "metadata": {},
   "source": [
    "## to_datetime"
   ]
  },
  {
   "cell_type": "code",
   "execution_count": 38,
   "metadata": {},
   "outputs": [
    {
     "data": {
      "text/plain": [
       "Timestamp('1995-07-13 00:00:00')"
      ]
     },
     "execution_count": 38,
     "metadata": {},
     "output_type": "execute_result"
    }
   ],
   "source": [
    "pd.to_datetime(\"13/7/95\")"
   ]
  },
  {
   "cell_type": "code",
   "execution_count": 42,
   "metadata": {},
   "outputs": [
    {
     "data": {
      "text/plain": [
       "Timestamp('2015-01-01 00:00:00')"
      ]
     },
     "execution_count": 42,
     "metadata": {},
     "output_type": "execute_result"
    }
   ],
   "source": [
    "pd.to_datetime(dt.date(2015, 1, 1))"
   ]
  },
  {
   "cell_type": "code",
   "execution_count": 44,
   "metadata": {},
   "outputs": [
    {
     "data": {
      "text/plain": [
       "Timestamp('2015-01-01 13:52:12')"
      ]
     },
     "execution_count": 44,
     "metadata": {},
     "output_type": "execute_result"
    }
   ],
   "source": [
    "pd.to_datetime(dt.datetime(2015,1,1,13,52,12))"
   ]
  },
  {
   "cell_type": "code",
   "execution_count": 45,
   "metadata": {},
   "outputs": [
    {
     "data": {
      "text/plain": [
       "DatetimeIndex(['1995-07-13', '2005-12-04', '2019-07-13'], dtype='datetime64[ns]', freq=None)"
      ]
     },
     "execution_count": 45,
     "metadata": {},
     "output_type": "execute_result"
    }
   ],
   "source": [
    "pd.to_datetime([\"13/7/1995\",\"12-4-2005\",\"13th July 2019\"])"
   ]
  },
  {
   "cell_type": "code",
   "execution_count": 47,
   "metadata": {
    "collapsed": true
   },
   "outputs": [
    {
     "data": {
      "text/plain": [
       "0         13/7/1995\n",
       "1         12-4-2005\n",
       "2    13th July 2019\n",
       "dtype: object"
      ]
     },
     "execution_count": 47,
     "metadata": {},
     "output_type": "execute_result"
    }
   ],
   "source": [
    "s2=pd.Series([\"13/7/1995\",\"12-4-2005\",\"13th July 2019\"])\n",
    "s2"
   ]
  },
  {
   "cell_type": "code",
   "execution_count": 48,
   "metadata": {
    "collapsed": true
   },
   "outputs": [
    {
     "data": {
      "text/plain": [
       "0   1995-07-13\n",
       "1   2005-12-04\n",
       "2   2019-07-13\n",
       "dtype: datetime64[ns]"
      ]
     },
     "execution_count": 48,
     "metadata": {},
     "output_type": "execute_result"
    }
   ],
   "source": [
    "pd.to_datetime(s2)"
   ]
  },
  {
   "cell_type": "code",
   "execution_count": 63,
   "metadata": {
    "collapsed": true
   },
   "outputs": [
    {
     "data": {
      "text/plain": [
       "DatetimeIndex(['1970-01-02 09:57:12', '1978-01-28 17:07:38',\n",
       "               '1984-02-15 10:28:08'],\n",
       "              dtype='datetime64[ns]', freq=None)"
      ]
     },
     "execution_count": 63,
     "metadata": {},
     "output_type": "execute_result"
    }
   ],
   "source": [
    "pd.to_datetime([122232,254855258,445688888],unit='s')      #unix time"
   ]
  },
  {
   "cell_type": "code",
   "execution_count": 65,
   "metadata": {
    "collapsed": true
   },
   "outputs": [
    {
     "data": {
      "text/plain": [
       "DatetimeIndex(['1995-07-13', '1992-12-08', 'NaT', 'NaT', '2019-10-05'], dtype='datetime64[ns]', freq=None)"
      ]
     },
     "execution_count": 65,
     "metadata": {},
     "output_type": "execute_result"
    }
   ],
   "source": [
    "lis1=[\"13/07/1995\",\"12/8/1992\",\"Hello\",\"15/21/2000\",\"10/5/2019\"]\n",
    "pd.to_datetime(lis1,errors=\"coerce\")"
   ]
  },
  {
   "cell_type": "code",
   "execution_count": 3,
   "metadata": {
    "collapsed": true
   },
   "outputs": [
    {
     "data": {
      "text/plain": [
       "DatetimeIndex(['1995-07-13 10:45:56', '1995-07-18 22:45:56',\n",
       "               '1995-07-13 01:45:56'],\n",
       "              dtype='datetime64[ns]', freq=None)"
      ]
     },
     "execution_count": 3,
     "metadata": {},
     "output_type": "execute_result"
    }
   ],
   "source": [
    "l3=[\"1995-07-13 10:45:56 AM\",\"1995-07-18 10:45:56 PM\",\"1995-07-13 1:45:56 AM\"]\n",
    "pd.DatetimeIndex(l3)"
   ]
  },
  {
   "cell_type": "markdown",
   "metadata": {},
   "source": [
    "## date_range()"
   ]
  },
  {
   "cell_type": "code",
   "execution_count": 5,
   "metadata": {
    "collapsed": true
   },
   "outputs": [
    {
     "data": {
      "text/plain": [
       "DatetimeIndex(['1995-07-13', '1995-07-14', '1995-07-15', '1995-07-16',\n",
       "               '1995-07-17', '1995-07-18', '1995-07-19', '1995-07-20',\n",
       "               '1995-07-21', '1995-07-22', '1995-07-23'],\n",
       "              dtype='datetime64[ns]', freq='D')"
      ]
     },
     "execution_count": 5,
     "metadata": {},
     "output_type": "execute_result"
    }
   ],
   "source": [
    "t=pd.date_range(start=\"1995-07-13\",end=\"1995-07-23\",freq=\"D\")   #d->days\n",
    "t"
   ]
  },
  {
   "cell_type": "code",
   "execution_count": 6,
   "metadata": {
    "collapsed": true
   },
   "outputs": [
    {
     "data": {
      "text/plain": [
       "pandas.core.indexes.datetimes.DatetimeIndex"
      ]
     },
     "execution_count": 6,
     "metadata": {},
     "output_type": "execute_result"
    }
   ],
   "source": [
    "type(t)"
   ]
  },
  {
   "cell_type": "code",
   "execution_count": 8,
   "metadata": {
    "collapsed": true
   },
   "outputs": [
    {
     "data": {
      "text/plain": [
       "pandas._libs.tslibs.timestamps.Timestamp"
      ]
     },
     "execution_count": 8,
     "metadata": {},
     "output_type": "execute_result"
    }
   ],
   "source": [
    "type(t[1])"
   ]
  },
  {
   "cell_type": "code",
   "execution_count": 9,
   "metadata": {
    "collapsed": true
   },
   "outputs": [
    {
     "data": {
      "text/plain": [
       "DatetimeIndex(['1995-07-13', '1995-07-14', '1995-07-17', '1995-07-18',\n",
       "               '1995-07-19', '1995-07-20', '1995-07-21'],\n",
       "              dtype='datetime64[ns]', freq='B')"
      ]
     },
     "execution_count": 9,
     "metadata": {},
     "output_type": "execute_result"
    }
   ],
   "source": [
    "pd.date_range(start=\"1995-07-13\",end=\"1995-07-23\",freq=\"B\")   #b->buisness days"
   ]
  },
  {
   "cell_type": "code",
   "execution_count": 10,
   "metadata": {
    "collapsed": true
   },
   "outputs": [
    {
     "data": {
      "text/plain": [
       "DatetimeIndex(['1995-07-16', '1995-07-23'], dtype='datetime64[ns]', freq='W-SUN')"
      ]
     },
     "execution_count": 10,
     "metadata": {},
     "output_type": "execute_result"
    }
   ],
   "source": [
    "pd.date_range(start=\"1995-07-13\",end=\"1995-07-23\",freq=\"W\")   #W->one day in week(sun)"
   ]
  },
  {
   "cell_type": "code",
   "execution_count": 11,
   "metadata": {
    "collapsed": true
   },
   "outputs": [
    {
     "data": {
      "text/plain": [
       "DatetimeIndex(['1995-07-14', '1995-07-21'], dtype='datetime64[ns]', freq='W-FRI')"
      ]
     },
     "execution_count": 11,
     "metadata": {},
     "output_type": "execute_result"
    }
   ],
   "source": [
    "pd.date_range(start=\"1995-07-13\",end=\"1995-07-23\",freq=\"W-FRI\")   #W->one day in week(fri)"
   ]
  },
  {
   "cell_type": "code",
   "execution_count": 12,
   "metadata": {
    "collapsed": true
   },
   "outputs": [
    {
     "data": {
      "text/plain": [
       "DatetimeIndex(['1995-07-13 00:00:00', '1995-07-13 01:00:00',\n",
       "               '1995-07-13 02:00:00', '1995-07-13 03:00:00',\n",
       "               '1995-07-13 04:00:00', '1995-07-13 05:00:00',\n",
       "               '1995-07-13 06:00:00', '1995-07-13 07:00:00',\n",
       "               '1995-07-13 08:00:00', '1995-07-13 09:00:00',\n",
       "               ...\n",
       "               '1995-07-22 15:00:00', '1995-07-22 16:00:00',\n",
       "               '1995-07-22 17:00:00', '1995-07-22 18:00:00',\n",
       "               '1995-07-22 19:00:00', '1995-07-22 20:00:00',\n",
       "               '1995-07-22 21:00:00', '1995-07-22 22:00:00',\n",
       "               '1995-07-22 23:00:00', '1995-07-23 00:00:00'],\n",
       "              dtype='datetime64[ns]', length=241, freq='H')"
      ]
     },
     "execution_count": 12,
     "metadata": {},
     "output_type": "execute_result"
    }
   ],
   "source": [
    "pd.date_range(start=\"1995-07-13\",end=\"1995-07-23\",freq=\"H\")   #H->hour"
   ]
  },
  {
   "cell_type": "code",
   "execution_count": 13,
   "metadata": {
    "collapsed": true
   },
   "outputs": [
    {
     "data": {
      "text/plain": [
       "DatetimeIndex(['1995-07-13 00:00:00', '1995-07-13 06:00:00',\n",
       "               '1995-07-13 12:00:00', '1995-07-13 18:00:00',\n",
       "               '1995-07-14 00:00:00', '1995-07-14 06:00:00',\n",
       "               '1995-07-14 12:00:00', '1995-07-14 18:00:00',\n",
       "               '1995-07-15 00:00:00', '1995-07-15 06:00:00',\n",
       "               '1995-07-15 12:00:00', '1995-07-15 18:00:00',\n",
       "               '1995-07-16 00:00:00', '1995-07-16 06:00:00',\n",
       "               '1995-07-16 12:00:00', '1995-07-16 18:00:00',\n",
       "               '1995-07-17 00:00:00', '1995-07-17 06:00:00',\n",
       "               '1995-07-17 12:00:00', '1995-07-17 18:00:00',\n",
       "               '1995-07-18 00:00:00', '1995-07-18 06:00:00',\n",
       "               '1995-07-18 12:00:00', '1995-07-18 18:00:00',\n",
       "               '1995-07-19 00:00:00', '1995-07-19 06:00:00',\n",
       "               '1995-07-19 12:00:00', '1995-07-19 18:00:00',\n",
       "               '1995-07-20 00:00:00', '1995-07-20 06:00:00',\n",
       "               '1995-07-20 12:00:00', '1995-07-20 18:00:00',\n",
       "               '1995-07-21 00:00:00', '1995-07-21 06:00:00',\n",
       "               '1995-07-21 12:00:00', '1995-07-21 18:00:00',\n",
       "               '1995-07-22 00:00:00', '1995-07-22 06:00:00',\n",
       "               '1995-07-22 12:00:00', '1995-07-22 18:00:00',\n",
       "               '1995-07-23 00:00:00'],\n",
       "              dtype='datetime64[ns]', freq='6H')"
      ]
     },
     "execution_count": 13,
     "metadata": {},
     "output_type": "execute_result"
    }
   ],
   "source": [
    "pd.date_range(start=\"1995-07-13\",end=\"1995-07-23\",freq=\"6H\")   #H->hour"
   ]
  },
  {
   "cell_type": "code",
   "execution_count": 14,
   "metadata": {
    "collapsed": true
   },
   "outputs": [
    {
     "data": {
      "text/plain": [
       "DatetimeIndex(['1995-07-31', '1995-09-30', '1995-11-30', '1996-01-31',\n",
       "               '1996-03-31', '1996-05-31'],\n",
       "              dtype='datetime64[ns]', freq='2M')"
      ]
     },
     "execution_count": 14,
     "metadata": {},
     "output_type": "execute_result"
    }
   ],
   "source": [
    "pd.date_range(start=\"1995-07-13\",end=\"1996-07-23\",freq=\"2M\")   #m->month"
   ]
  },
  {
   "cell_type": "code",
   "execution_count": 16,
   "metadata": {
    "collapsed": true
   },
   "outputs": [
    {
     "data": {
      "text/plain": [
       "DatetimeIndex(['1995-08-01', '1995-11-01', '1996-02-01', '1996-05-01'], dtype='datetime64[ns]', freq='3MS')"
      ]
     },
     "execution_count": 16,
     "metadata": {},
     "output_type": "execute_result"
    }
   ],
   "source": [
    "pd.date_range(start=\"1995-07-13\",end=\"1996-07-23\",freq=\"3MS\")   #ms->month start"
   ]
  },
  {
   "cell_type": "code",
   "execution_count": 18,
   "metadata": {
    "collapsed": true
   },
   "outputs": [
    {
     "data": {
      "text/plain": [
       "DatetimeIndex(['1990-12-31', '1994-12-31', '1998-12-31'], dtype='datetime64[ns]', freq='4A-DEC')"
      ]
     },
     "execution_count": 18,
     "metadata": {},
     "output_type": "execute_result"
    }
   ],
   "source": [
    "pd.date_range(start=\"1990-07-13\",end=\"1999-07-23\",freq=\"4A\")   #A-> annual(year) last"
   ]
  },
  {
   "cell_type": "code",
   "execution_count": 19,
   "metadata": {
    "collapsed": true
   },
   "outputs": [
    {
     "data": {
      "text/plain": [
       "DatetimeIndex(['2018-12-05', '2018-12-06', '2018-12-07', '2018-12-08',\n",
       "               '2018-12-09', '2018-12-10', '2018-12-11', '2018-12-12',\n",
       "               '2018-12-13', '2018-12-14', '2018-12-15', '2018-12-16',\n",
       "               '2018-12-17', '2018-12-18', '2018-12-19', '2018-12-20',\n",
       "               '2018-12-21', '2018-12-22', '2018-12-23', '2018-12-24',\n",
       "               '2018-12-25', '2018-12-26', '2018-12-27', '2018-12-28',\n",
       "               '2018-12-29', '2018-12-30', '2018-12-31', '2019-01-01',\n",
       "               '2019-01-02', '2019-01-03', '2019-01-04', '2019-01-05',\n",
       "               '2019-01-06', '2019-01-07', '2019-01-08', '2019-01-09',\n",
       "               '2019-01-10', '2019-01-11', '2019-01-12', '2019-01-13',\n",
       "               '2019-01-14', '2019-01-15', '2019-01-16', '2019-01-17',\n",
       "               '2019-01-18', '2019-01-19', '2019-01-20', '2019-01-21',\n",
       "               '2019-01-22', '2019-01-23'],\n",
       "              dtype='datetime64[ns]', freq='D')"
      ]
     },
     "execution_count": 19,
     "metadata": {},
     "output_type": "execute_result"
    }
   ],
   "source": [
    "pd.date_range(start=\"12-5-2018\",periods=50,freq=\"D\")    #generate 50 days"
   ]
  },
  {
   "cell_type": "code",
   "execution_count": 20,
   "metadata": {
    "collapsed": true
   },
   "outputs": [
    {
     "data": {
      "text/plain": [
       "DatetimeIndex(['2018-12-05', '2018-12-06', '2018-12-07', '2018-12-10',\n",
       "               '2018-12-11', '2018-12-12', '2018-12-13', '2018-12-14',\n",
       "               '2018-12-17', '2018-12-18'],\n",
       "              dtype='datetime64[ns]', freq='B')"
      ]
     },
     "execution_count": 20,
     "metadata": {},
     "output_type": "execute_result"
    }
   ],
   "source": [
    "pd.date_range(start=\"12-5-2018\",periods=10,freq=\"B\")     #10 buisness days"
   ]
  },
  {
   "cell_type": "code",
   "execution_count": 22,
   "metadata": {
    "collapsed": true
   },
   "outputs": [
    {
     "data": {
      "text/plain": [
       "DatetimeIndex(['1995-08-01', '1995-11-01', '1996-02-01', '1996-05-01',\n",
       "               '1996-08-01', '1996-11-01', '1997-02-01', '1997-05-01',\n",
       "               '1997-08-01', '1997-11-01', '1998-02-01', '1998-05-01',\n",
       "               '1998-08-01', '1998-11-01', '1999-02-01', '1999-05-01',\n",
       "               '1999-08-01', '1999-11-01', '2000-02-01', '2000-05-01'],\n",
       "              dtype='datetime64[ns]', freq='3MS')"
      ]
     },
     "execution_count": 22,
     "metadata": {},
     "output_type": "execute_result"
    }
   ],
   "source": [
    "pd.date_range(start=\"1995-07-13\",periods=20,freq=\"3MS\")"
   ]
  },
  {
   "cell_type": "code",
   "execution_count": 23,
   "metadata": {
    "collapsed": true
   },
   "outputs": [
    {
     "data": {
      "text/plain": [
       "DatetimeIndex(['2018-10-17', '2018-10-18', '2018-10-19', '2018-10-20',\n",
       "               '2018-10-21', '2018-10-22', '2018-10-23', '2018-10-24',\n",
       "               '2018-10-25', '2018-10-26', '2018-10-27', '2018-10-28',\n",
       "               '2018-10-29', '2018-10-30', '2018-10-31', '2018-11-01',\n",
       "               '2018-11-02', '2018-11-03', '2018-11-04', '2018-11-05',\n",
       "               '2018-11-06', '2018-11-07', '2018-11-08', '2018-11-09',\n",
       "               '2018-11-10', '2018-11-11', '2018-11-12', '2018-11-13',\n",
       "               '2018-11-14', '2018-11-15', '2018-11-16', '2018-11-17',\n",
       "               '2018-11-18', '2018-11-19', '2018-11-20', '2018-11-21',\n",
       "               '2018-11-22', '2018-11-23', '2018-11-24', '2018-11-25',\n",
       "               '2018-11-26', '2018-11-27', '2018-11-28', '2018-11-29',\n",
       "               '2018-11-30', '2018-12-01', '2018-12-02', '2018-12-03',\n",
       "               '2018-12-04', '2018-12-05'],\n",
       "              dtype='datetime64[ns]', freq='D')"
      ]
     },
     "execution_count": 23,
     "metadata": {},
     "output_type": "execute_result"
    }
   ],
   "source": [
    "pd.date_range(end=\"12-5-2018\",periods=50,freq=\"D\")"
   ]
  },
  {
   "cell_type": "code",
   "execution_count": 24,
   "metadata": {
    "collapsed": true
   },
   "outputs": [
    {
     "data": {
      "text/plain": [
       "DatetimeIndex(['1995-03-10', '1995-03-17', '1995-03-24', '1995-03-31',\n",
       "               '1995-04-07', '1995-04-14', '1995-04-21', '1995-04-28',\n",
       "               '1995-05-05', '1995-05-12', '1995-05-19', '1995-05-26',\n",
       "               '1995-06-02', '1995-06-09', '1995-06-16', '1995-06-23',\n",
       "               '1995-06-30', '1995-07-07', '1995-07-14', '1995-07-21'],\n",
       "              dtype='datetime64[ns]', freq='W-FRI')"
      ]
     },
     "execution_count": 24,
     "metadata": {},
     "output_type": "execute_result"
    }
   ],
   "source": [
    "pd.date_range(end=\"1995-07-23\",freq=\"W-FRI\",periods=20)    #20 fridays before 13/7/1995"
   ]
  },
  {
   "cell_type": "markdown",
   "metadata": {},
   "source": [
    "\n",
    "## .dt accessor\n",
    "generally accessor is needed where we do operation on series or df"
   ]
  },
  {
   "cell_type": "code",
   "execution_count": 25,
   "metadata": {
    "collapsed": true
   },
   "outputs": [
    {
     "data": {
      "text/plain": [
       "DatetimeIndex(['1995-07-13', '1995-07-14', '1995-07-15', '1995-07-16',\n",
       "               '1995-07-17', '1995-07-18', '1995-07-19', '1995-07-20',\n",
       "               '1995-07-21', '1995-07-22', '1995-07-23'],\n",
       "              dtype='datetime64[ns]', freq='D')"
      ]
     },
     "execution_count": 25,
     "metadata": {},
     "output_type": "execute_result"
    }
   ],
   "source": [
    "ty=pd.date_range(start=\"1995-07-13\",end=\"1995-07-23\",freq=\"D\")\n",
    "ty"
   ]
  },
  {
   "cell_type": "code",
   "execution_count": 29,
   "metadata": {
    "collapsed": true
   },
   "outputs": [
    {
     "data": {
      "text/plain": [
       "array([False, False, False, False, False, False, False, False, False,\n",
       "       False, False])"
      ]
     },
     "execution_count": 29,
     "metadata": {},
     "output_type": "execute_result"
    }
   ],
   "source": [
    "ty.is_month_end"
   ]
  },
  {
   "cell_type": "code",
   "execution_count": 30,
   "metadata": {
    "collapsed": true
   },
   "outputs": [
    {
     "data": {
      "text/plain": [
       "0    1995-07-13\n",
       "1    1995-07-14\n",
       "2    1995-07-15\n",
       "3    1995-07-16\n",
       "4    1995-07-17\n",
       "5    1995-07-18\n",
       "6    1995-07-19\n",
       "7    1995-07-20\n",
       "8    1995-07-21\n",
       "9    1995-07-22\n",
       "10   1995-07-23\n",
       "dtype: datetime64[ns]"
      ]
     },
     "execution_count": 30,
     "metadata": {},
     "output_type": "execute_result"
    }
   ],
   "source": [
    "s=pd.Series(ty)\n",
    "s"
   ]
  },
  {
   "cell_type": "code",
   "execution_count": 38,
   "metadata": {
    "collapsed": true
   },
   "outputs": [
    {
     "data": {
      "text/plain": [
       "0     False\n",
       "1     False\n",
       "2     False\n",
       "3     False\n",
       "4     False\n",
       "5     False\n",
       "6     False\n",
       "7     False\n",
       "8     False\n",
       "9     False\n",
       "10    False\n",
       "dtype: bool"
      ]
     },
     "execution_count": 38,
     "metadata": {},
     "output_type": "execute_result"
    }
   ],
   "source": [
    "abc=s.dt.is_month_start\n",
    "abc"
   ]
  },
  {
   "cell_type": "code",
   "execution_count": 39,
   "metadata": {
    "collapsed": true
   },
   "outputs": [
    {
     "data": {
      "text/plain": [
       "Series([], dtype: datetime64[ns])"
      ]
     },
     "execution_count": 39,
     "metadata": {},
     "output_type": "execute_result"
    }
   ],
   "source": [
    "s[abc]"
   ]
  },
  {
   "cell_type": "code",
   "execution_count": 34,
   "metadata": {
    "collapsed": true
   },
   "outputs": [
    {
     "data": {
      "text/plain": [
       "0     13\n",
       "1     14\n",
       "2     15\n",
       "3     16\n",
       "4     17\n",
       "5     18\n",
       "6     19\n",
       "7     20\n",
       "8     21\n",
       "9     22\n",
       "10    23\n",
       "dtype: int64"
      ]
     },
     "execution_count": 34,
     "metadata": {},
     "output_type": "execute_result"
    }
   ],
   "source": [
    "s.dt.day"
   ]
  },
  {
   "cell_type": "code",
   "execution_count": 43,
   "metadata": {
    "collapsed": true
   },
   "outputs": [
    {
     "data": {
      "text/plain": [
       "0      Thursday\n",
       "1        Friday\n",
       "2      Saturday\n",
       "3        Sunday\n",
       "4        Monday\n",
       "5       Tuesday\n",
       "6     Wednesday\n",
       "7      Thursday\n",
       "8        Friday\n",
       "9      Saturday\n",
       "10       Sunday\n",
       "dtype: object"
      ]
     },
     "execution_count": 43,
     "metadata": {},
     "output_type": "execute_result"
    }
   ],
   "source": [
    "s.dt.weekday_name\n"
   ]
  },
  {
   "cell_type": "code",
   "execution_count": 45,
   "metadata": {
    "collapsed": true
   },
   "outputs": [
    {
     "data": {
      "text/plain": [
       "00:00:00   NaT\n",
       "00:00:00   NaT\n",
       "00:00:00   NaT\n",
       "00:00:00   NaT\n",
       "00:00:00   NaT\n",
       "00:00:00   NaT\n",
       "00:00:00   NaT\n",
       "00:00:00   NaT\n",
       "00:00:00   NaT\n",
       "00:00:00   NaT\n",
       "00:00:00   NaT\n",
       "dtype: datetime64[ns]"
      ]
     },
     "execution_count": 45,
     "metadata": {},
     "output_type": "execute_result"
    }
   ],
   "source": [
    "de=s.dt.time\n",
    "de\n",
    "s[de]"
   ]
  },
  {
   "cell_type": "markdown",
   "metadata": {},
   "source": [
    "## pandas_datareader\n",
    "Functions from pandas_datareader.data and pandas_datareader.wb extract data from various Internet sources into a pandas DataFrame."
   ]
  },
  {
   "cell_type": "code",
   "execution_count": 5,
   "metadata": {},
   "outputs": [],
   "source": [
    "from pandas_datareader import data"
   ]
  },
  {
   "cell_type": "code",
   "execution_count": 4,
   "metadata": {
    "collapsed": true
   },
   "outputs": [
    {
     "ename": "ImmediateDeprecationError",
     "evalue": "\nGoogle finance has been immediately deprecated due to large breaks in the API without the\nintroduction of a stable replacement. Pull Requests to re-enable these data\nconnectors are welcome.\n\nSee https://github.com/pydata/pandas-datareader/issues\n",
     "output_type": "error",
     "traceback": [
      "\u001b[1;31m---------------------------------------------------------------------------\u001b[0m",
      "\u001b[1;31mImmediateDeprecationError\u001b[0m                 Traceback (most recent call last)",
      "\u001b[1;32m<ipython-input-4-874b993ab7a8>\u001b[0m in \u001b[0;36m<module>\u001b[1;34m\u001b[0m\n\u001b[0;32m      2\u001b[0m \u001b[0mstart\u001b[0m\u001b[1;33m=\u001b[0m\u001b[1;34m\"2010-01-01\"\u001b[0m\u001b[1;33m\u001b[0m\u001b[1;33m\u001b[0m\u001b[0m\n\u001b[0;32m      3\u001b[0m \u001b[0mend\u001b[0m\u001b[1;33m=\u001b[0m\u001b[1;34m\"2016-05-13\"\u001b[0m\u001b[1;33m\u001b[0m\u001b[1;33m\u001b[0m\u001b[0m\n\u001b[1;32m----> 4\u001b[1;33m \u001b[0mdata\u001b[0m\u001b[1;33m.\u001b[0m\u001b[0mDataReader\u001b[0m\u001b[1;33m(\u001b[0m\u001b[0mname\u001b[0m\u001b[1;33m=\u001b[0m\u001b[0mcomp\u001b[0m\u001b[1;33m,\u001b[0m\u001b[0mdata_source\u001b[0m\u001b[1;33m=\u001b[0m\u001b[1;34m\"google\"\u001b[0m\u001b[1;33m,\u001b[0m\u001b[0mstart\u001b[0m\u001b[1;33m=\u001b[0m\u001b[0mstart\u001b[0m\u001b[1;33m,\u001b[0m\u001b[0mend\u001b[0m\u001b[1;33m=\u001b[0m\u001b[0mend\u001b[0m\u001b[1;33m)\u001b[0m  \u001b[1;31m#for other sources see the official doc\u001b[0m\u001b[1;33m\u001b[0m\u001b[1;33m\u001b[0m\u001b[0m\n\u001b[0m",
      "\u001b[1;32mD:\\study\\anaconda\\lib\\site-packages\\pandas_datareader\\data.py\u001b[0m in \u001b[0;36mDataReader\u001b[1;34m(name, data_source, start, end, retry_count, pause, session, access_key)\u001b[0m\n\u001b[0;32m    314\u001b[0m                                  \u001b[0mchunksize\u001b[0m\u001b[1;33m=\u001b[0m\u001b[1;36m25\u001b[0m\u001b[1;33m,\u001b[0m\u001b[1;33m\u001b[0m\u001b[1;33m\u001b[0m\u001b[0m\n\u001b[0;32m    315\u001b[0m                                  \u001b[0mretry_count\u001b[0m\u001b[1;33m=\u001b[0m\u001b[0mretry_count\u001b[0m\u001b[1;33m,\u001b[0m \u001b[0mpause\u001b[0m\u001b[1;33m=\u001b[0m\u001b[0mpause\u001b[0m\u001b[1;33m,\u001b[0m\u001b[1;33m\u001b[0m\u001b[1;33m\u001b[0m\u001b[0m\n\u001b[1;32m--> 316\u001b[1;33m                                  session=session).read()\n\u001b[0m\u001b[0;32m    317\u001b[0m \u001b[1;33m\u001b[0m\u001b[0m\n\u001b[0;32m    318\u001b[0m     \u001b[1;32melif\u001b[0m \u001b[0mdata_source\u001b[0m \u001b[1;33m==\u001b[0m \u001b[1;34m\"iex\"\u001b[0m\u001b[1;33m:\u001b[0m\u001b[1;33m\u001b[0m\u001b[1;33m\u001b[0m\u001b[0m\n",
      "\u001b[1;32mD:\\study\\anaconda\\lib\\site-packages\\pandas_datareader\\google\\daily.py\u001b[0m in \u001b[0;36m__init__\u001b[1;34m(self, symbols, start, end, retry_count, pause, session, chunksize)\u001b[0m\n\u001b[0;32m     34\u001b[0m     def __init__(self, symbols=None, start=None, end=None, retry_count=3,\n\u001b[0;32m     35\u001b[0m                  pause=0.1, session=None, chunksize=25):\n\u001b[1;32m---> 36\u001b[1;33m         \u001b[1;32mraise\u001b[0m \u001b[0mImmediateDeprecationError\u001b[0m\u001b[1;33m(\u001b[0m\u001b[0mDEP_ERROR_MSG\u001b[0m\u001b[1;33m.\u001b[0m\u001b[0mformat\u001b[0m\u001b[1;33m(\u001b[0m\u001b[1;34m'Google finance'\u001b[0m\u001b[1;33m)\u001b[0m\u001b[1;33m)\u001b[0m\u001b[1;33m\u001b[0m\u001b[1;33m\u001b[0m\u001b[0m\n\u001b[0m\u001b[0;32m     37\u001b[0m         super(GoogleDailyReader, self).__init__(symbols, start, end,\n\u001b[0;32m     38\u001b[0m                                                 \u001b[0mretry_count\u001b[0m\u001b[1;33m,\u001b[0m \u001b[0mpause\u001b[0m\u001b[1;33m,\u001b[0m \u001b[0msession\u001b[0m\u001b[1;33m,\u001b[0m\u001b[1;33m\u001b[0m\u001b[1;33m\u001b[0m\u001b[0m\n",
      "\u001b[1;31mImmediateDeprecationError\u001b[0m: \nGoogle finance has been immediately deprecated due to large breaks in the API without the\nintroduction of a stable replacement. Pull Requests to re-enable these data\nconnectors are welcome.\n\nSee https://github.com/pydata/pandas-datareader/issues\n"
     ]
    }
   ],
   "source": [
    "comp=\"MSFT\"   #it is the stock symbol of microsoft company\n",
    "start=\"2010-01-01\"\n",
    "end=\"2016-05-13\"\n",
    "data.DataReader(name=comp,data_source=\"google\",start=start,end=end)  #for other sources see the official doc"
   ]
  },
  {
   "cell_type": "code",
   "execution_count": 6,
   "metadata": {
    "collapsed": true
   },
   "outputs": [
    {
     "data": {
      "text/plain": [
       "DatetimeIndex(['2010-01-01', '2011-01-01', '2012-01-01', '2013-01-01',\n",
       "               '2014-01-01', '2015-01-01', '2016-01-01'],\n",
       "              dtype='datetime64[ns]', freq='<DateOffset: years=1>')"
      ]
     },
     "execution_count": 6,
     "metadata": {},
     "output_type": "execute_result"
    }
   ],
   "source": [
    "pd.date_range(start=start,end=end,freq=pd.DateOffset(years=1))"
   ]
  },
  {
   "cell_type": "markdown",
   "metadata": {},
   "source": [
    "## truncate"
   ]
  },
  {
   "cell_type": "code",
   "execution_count": 4,
   "metadata": {
    "collapsed": true
   },
   "outputs": [
    {
     "ename": "NameError",
     "evalue": "name 'df' is not defined",
     "output_type": "error",
     "traceback": [
      "\u001b[1;31m---------------------------------------------------------------------------\u001b[0m",
      "\u001b[1;31mNameError\u001b[0m                                 Traceback (most recent call last)",
      "\u001b[1;32m<ipython-input-4-033489cbc37d>\u001b[0m in \u001b[0;36m<module>\u001b[1;34m\u001b[0m\n\u001b[1;32m----> 1\u001b[1;33m \u001b[0mdf\u001b[0m\u001b[1;33m.\u001b[0m\u001b[0mtruncate\u001b[0m\u001b[1;33m(\u001b[0m\u001b[0mbefore\u001b[0m\u001b[1;33m=\u001b[0m\u001b[1;34m\"2011-02-25\"\u001b[0m\u001b[1;33m,\u001b[0m\u001b[0mafter\u001b[0m\u001b[1;33m=\u001b[0m\u001b[1;34m\"2018-05-02\"\u001b[0m\u001b[1;33m)\u001b[0m\u001b[1;33m\u001b[0m\u001b[1;33m\u001b[0m\u001b[0m\n\u001b[0m",
      "\u001b[1;31mNameError\u001b[0m: name 'df' is not defined"
     ]
    }
   ],
   "source": [
    "df.truncate(before=\"2011-02-25\",after=\"2018-05-02\")"
   ]
  },
  {
   "cell_type": "markdown",
   "metadata": {},
   "source": [
    "## pd.DataOffset()"
   ]
  },
  {
   "cell_type": "code",
   "execution_count": 6,
   "metadata": {
    "collapsed": true
   },
   "outputs": [
    {
     "ename": "ImmediateDeprecationError",
     "evalue": "\nGoogle finance has been immediately deprecated due to large breaks in the API without the\nintroduction of a stable replacement. Pull Requests to re-enable these data\nconnectors are welcome.\n\nSee https://github.com/pydata/pandas-datareader/issues\n",
     "output_type": "error",
     "traceback": [
      "\u001b[1;31m---------------------------------------------------------------------------\u001b[0m",
      "\u001b[1;31mImmediateDeprecationError\u001b[0m                 Traceback (most recent call last)",
      "\u001b[1;32m<ipython-input-6-1ab12c3cb789>\u001b[0m in \u001b[0;36m<module>\u001b[1;34m\u001b[0m\n\u001b[1;32m----> 1\u001b[1;33m \u001b[0mstock\u001b[0m\u001b[1;33m=\u001b[0m\u001b[0mdata\u001b[0m\u001b[1;33m.\u001b[0m\u001b[0mDataReader\u001b[0m\u001b[1;33m(\u001b[0m\u001b[0mname\u001b[0m\u001b[1;33m=\u001b[0m\u001b[1;34m\"GOOG\"\u001b[0m\u001b[1;33m,\u001b[0m\u001b[0mdata_source\u001b[0m\u001b[1;33m=\u001b[0m\u001b[1;34m\"google\"\u001b[0m\u001b[1;33m,\u001b[0m\u001b[0mstart\u001b[0m\u001b[1;33m=\u001b[0m\u001b[0mdt\u001b[0m\u001b[1;33m.\u001b[0m\u001b[0mdate\u001b[0m\u001b[1;33m(\u001b[0m\u001b[1;36m2010\u001b[0m\u001b[1;33m,\u001b[0m \u001b[1;36m1\u001b[0m\u001b[1;33m,\u001b[0m \u001b[1;36m2\u001b[0m\u001b[1;33m)\u001b[0m\u001b[1;33m,\u001b[0m\u001b[0mend\u001b[0m\u001b[1;33m=\u001b[0m\u001b[0mdt\u001b[0m\u001b[1;33m.\u001b[0m\u001b[0mdatetime\u001b[0m\u001b[1;33m.\u001b[0m\u001b[0mnow\u001b[0m\u001b[1;33m(\u001b[0m\u001b[1;33m)\u001b[0m\u001b[1;33m)\u001b[0m\u001b[1;33m\u001b[0m\u001b[1;33m\u001b[0m\u001b[0m\n\u001b[0m",
      "\u001b[1;32mD:\\study\\anaconda\\lib\\site-packages\\pandas_datareader\\data.py\u001b[0m in \u001b[0;36mDataReader\u001b[1;34m(name, data_source, start, end, retry_count, pause, session, access_key)\u001b[0m\n\u001b[0;32m    314\u001b[0m                                  \u001b[0mchunksize\u001b[0m\u001b[1;33m=\u001b[0m\u001b[1;36m25\u001b[0m\u001b[1;33m,\u001b[0m\u001b[1;33m\u001b[0m\u001b[1;33m\u001b[0m\u001b[0m\n\u001b[0;32m    315\u001b[0m                                  \u001b[0mretry_count\u001b[0m\u001b[1;33m=\u001b[0m\u001b[0mretry_count\u001b[0m\u001b[1;33m,\u001b[0m \u001b[0mpause\u001b[0m\u001b[1;33m=\u001b[0m\u001b[0mpause\u001b[0m\u001b[1;33m,\u001b[0m\u001b[1;33m\u001b[0m\u001b[1;33m\u001b[0m\u001b[0m\n\u001b[1;32m--> 316\u001b[1;33m                                  session=session).read()\n\u001b[0m\u001b[0;32m    317\u001b[0m \u001b[1;33m\u001b[0m\u001b[0m\n\u001b[0;32m    318\u001b[0m     \u001b[1;32melif\u001b[0m \u001b[0mdata_source\u001b[0m \u001b[1;33m==\u001b[0m \u001b[1;34m\"iex\"\u001b[0m\u001b[1;33m:\u001b[0m\u001b[1;33m\u001b[0m\u001b[1;33m\u001b[0m\u001b[0m\n",
      "\u001b[1;32mD:\\study\\anaconda\\lib\\site-packages\\pandas_datareader\\google\\daily.py\u001b[0m in \u001b[0;36m__init__\u001b[1;34m(self, symbols, start, end, retry_count, pause, session, chunksize)\u001b[0m\n\u001b[0;32m     34\u001b[0m     def __init__(self, symbols=None, start=None, end=None, retry_count=3,\n\u001b[0;32m     35\u001b[0m                  pause=0.1, session=None, chunksize=25):\n\u001b[1;32m---> 36\u001b[1;33m         \u001b[1;32mraise\u001b[0m \u001b[0mImmediateDeprecationError\u001b[0m\u001b[1;33m(\u001b[0m\u001b[0mDEP_ERROR_MSG\u001b[0m\u001b[1;33m.\u001b[0m\u001b[0mformat\u001b[0m\u001b[1;33m(\u001b[0m\u001b[1;34m'Google finance'\u001b[0m\u001b[1;33m)\u001b[0m\u001b[1;33m)\u001b[0m\u001b[1;33m\u001b[0m\u001b[1;33m\u001b[0m\u001b[0m\n\u001b[0m\u001b[0;32m     37\u001b[0m         super(GoogleDailyReader, self).__init__(symbols, start, end,\n\u001b[0;32m     38\u001b[0m                                                 \u001b[0mretry_count\u001b[0m\u001b[1;33m,\u001b[0m \u001b[0mpause\u001b[0m\u001b[1;33m,\u001b[0m \u001b[0msession\u001b[0m\u001b[1;33m,\u001b[0m\u001b[1;33m\u001b[0m\u001b[1;33m\u001b[0m\u001b[0m\n",
      "\u001b[1;31mImmediateDeprecationError\u001b[0m: \nGoogle finance has been immediately deprecated due to large breaks in the API without the\nintroduction of a stable replacement. Pull Requests to re-enable these data\nconnectors are welcome.\n\nSee https://github.com/pydata/pandas-datareader/issues\n"
     ]
    }
   ],
   "source": [
    "stock=data.DataReader(name=\"GOOG\",data_source=\"google\",start=dt.date(2010, 1, 2),end=dt.datetime.now())"
   ]
  },
  {
   "cell_type": "code",
   "execution_count": 9,
   "metadata": {},
   "outputs": [
    {
     "ename": "NameError",
     "evalue": "name 'stock' is not defined",
     "output_type": "error",
     "traceback": [
      "\u001b[1;31m---------------------------------------------------------------------------\u001b[0m",
      "\u001b[1;31mNameError\u001b[0m                                 Traceback (most recent call last)",
      "\u001b[1;32m<ipython-input-9-b3d635f23bf2>\u001b[0m in \u001b[0;36m<module>\u001b[1;34m\u001b[0m\n\u001b[1;32m----> 1\u001b[1;33m \u001b[0mstock\u001b[0m\u001b[1;33m.\u001b[0m\u001b[0mindex\u001b[0m\u001b[1;33m=\u001b[0m\u001b[0mstock\u001b[0m\u001b[1;33m.\u001b[0m\u001b[0mindex\u001b[0m\u001b[1;33m+\u001b[0m\u001b[0mpd\u001b[0m\u001b[1;33m.\u001b[0m\u001b[0mDateOffset\u001b[0m\u001b[1;33m(\u001b[0m\u001b[0mdays\u001b[0m\u001b[1;33m=\u001b[0m\u001b[1;36m5\u001b[0m\u001b[1;33m)\u001b[0m  \u001b[1;31m##date increment function used for daterange\u001b[0m\u001b[1;33m\u001b[0m\u001b[1;33m\u001b[0m\u001b[0m\n\u001b[0m\u001b[0;32m      2\u001b[0m \u001b[0mstock\u001b[0m\u001b[1;33m.\u001b[0m\u001b[0mindex\u001b[0m\u001b[1;33m=\u001b[0m\u001b[0mstock\u001b[0m\u001b[1;33m.\u001b[0m\u001b[0mindex\u001b[0m\u001b[1;33m+\u001b[0m\u001b[0mpd\u001b[0m\u001b[1;33m.\u001b[0m\u001b[0mDateOffset\u001b[0m\u001b[1;33m(\u001b[0m\u001b[0myera\u001b[0m\u001b[1;33m==\u001b[0m\u001b[1;36m2\u001b[0m\u001b[1;33m,\u001b[0m\u001b[0mmonths\u001b[0m\u001b[1;33m=\u001b[0m\u001b[1;36m3\u001b[0m\u001b[1;33m,\u001b[0m\u001b[0mhours\u001b[0m\u001b[1;33m=\u001b[0m\u001b[1;36m7\u001b[0m\u001b[1;33m,\u001b[0m\u001b[0mdays\u001b[0m\u001b[1;33m=\u001b[0m\u001b[1;36m23\u001b[0m\u001b[1;33m,\u001b[0m\u001b[0mminutes\u001b[0m\u001b[1;33m=\u001b[0m\u001b[1;36m43\u001b[0m\u001b[1;33m)\u001b[0m\u001b[1;33m\u001b[0m\u001b[1;33m\u001b[0m\u001b[0m\n",
      "\u001b[1;31mNameError\u001b[0m: name 'stock' is not defined"
     ]
    }
   ],
   "source": [
    "stock.index=stock.index+pd.DateOffset(days=5)  ##date increment function used for daterange\n",
    "stock.index=stock.index+pd.DateOffset(year=2,months=3,hours=7,days=23,minutes=43) "
   ]
  },
  {
   "cell_type": "code",
   "execution_count": null,
   "metadata": {},
   "outputs": [],
   "source": [
    "stock.index=stock.index+pd.tseries.offsets.MonthBegin()"
   ]
  },
  {
   "cell_type": "code",
   "execution_count": 11,
   "metadata": {},
   "outputs": [],
   "source": [
    "from pandas .tseries.offsets import *"
   ]
  },
  {
   "cell_type": "code",
   "execution_count": null,
   "metadata": {},
   "outputs": [],
   "source": [
    "stock.index-BMonthEnd()\n",
    "stock.index+MonthEnd()\n",
    "stock.index-QuarterBegin()"
   ]
  },
  {
   "cell_type": "code",
   "execution_count": 20,
   "metadata": {},
   "outputs": [],
   "source": [
    "t1=pd.Timestamp(\"2016-05-20 4:02PM\")\n",
    "t2=pd.Timestamp(\"2017-05-16 8:20AM\")"
   ]
  },
  {
   "cell_type": "code",
   "execution_count": 21,
   "metadata": {},
   "outputs": [
    {
     "data": {
      "text/plain": [
       "Timedelta('-361 days +07:42:00')"
      ]
     },
     "execution_count": 21,
     "metadata": {},
     "output_type": "execute_result"
    }
   ],
   "source": [
    "t1-t2"
   ]
  },
  {
   "cell_type": "code",
   "execution_count": 22,
   "metadata": {},
   "outputs": [
    {
     "data": {
      "text/plain": [
       "pandas._libs.tslibs.timestamps.Timestamp"
      ]
     },
     "execution_count": 22,
     "metadata": {},
     "output_type": "execute_result"
    }
   ],
   "source": [
    "type(t1)"
   ]
  },
  {
   "cell_type": "code",
   "execution_count": 23,
   "metadata": {},
   "outputs": [
    {
     "data": {
      "text/plain": [
       "pandas._libs.tslibs.timedeltas.Timedelta"
      ]
     },
     "execution_count": 23,
     "metadata": {},
     "output_type": "execute_result"
    }
   ],
   "source": [
    "type(t1-t2)"
   ]
  },
  {
   "cell_type": "code",
   "execution_count": 24,
   "metadata": {},
   "outputs": [
    {
     "data": {
      "text/plain": [
       "pandas._libs.tslibs.timedeltas.Timedelta"
      ]
     },
     "execution_count": 24,
     "metadata": {},
     "output_type": "execute_result"
    }
   ],
   "source": [
    "type(t2-t1)"
   ]
  },
  {
   "cell_type": "code",
   "execution_count": 25,
   "metadata": {},
   "outputs": [
    {
     "data": {
      "text/plain": [
       "Timedelta('79 days 06:45:00')"
      ]
     },
     "execution_count": 25,
     "metadata": {},
     "output_type": "execute_result"
    }
   ],
   "source": [
    "pd.Timedelta(weeks=8,minutes=45,days=23,hours=6)"
   ]
  },
  {
   "cell_type": "code",
   "execution_count": 26,
   "metadata": {},
   "outputs": [
    {
     "data": {
      "text/plain": [
       "Timedelta('2 days 06:23:43')"
      ]
     },
     "execution_count": 26,
     "metadata": {},
     "output_type": "execute_result"
    }
   ],
   "source": [
    "pd.Timedelta(\"2 days 6hours 23 minutes 43 seconds\")"
   ]
  },
  {
   "cell_type": "code",
   "execution_count": 29,
   "metadata": {
    "collapsed": true
   },
   "outputs": [
    {
     "data": {
      "text/html": [
       "<div>\n",
       "<style scoped>\n",
       "    .dataframe tbody tr th:only-of-type {\n",
       "        vertical-align: middle;\n",
       "    }\n",
       "\n",
       "    .dataframe tbody tr th {\n",
       "        vertical-align: top;\n",
       "    }\n",
       "\n",
       "    .dataframe thead th {\n",
       "        text-align: right;\n",
       "    }\n",
       "</style>\n",
       "<table border=\"1\" class=\"dataframe\">\n",
       "  <thead>\n",
       "    <tr style=\"text-align: right;\">\n",
       "      <th></th>\n",
       "      <th>order_date</th>\n",
       "      <th>delivery_date</th>\n",
       "    </tr>\n",
       "    <tr>\n",
       "      <th>ID</th>\n",
       "      <th></th>\n",
       "      <th></th>\n",
       "    </tr>\n",
       "  </thead>\n",
       "  <tbody>\n",
       "    <tr>\n",
       "      <th>1</th>\n",
       "      <td>1998-05-24</td>\n",
       "      <td>1999-02-05</td>\n",
       "    </tr>\n",
       "    <tr>\n",
       "      <th>2</th>\n",
       "      <td>1992-04-22</td>\n",
       "      <td>1998-03-06</td>\n",
       "    </tr>\n",
       "    <tr>\n",
       "      <th>4</th>\n",
       "      <td>1991-02-10</td>\n",
       "      <td>1992-08-26</td>\n",
       "    </tr>\n",
       "    <tr>\n",
       "      <th>5</th>\n",
       "      <td>1992-07-21</td>\n",
       "      <td>1997-11-20</td>\n",
       "    </tr>\n",
       "    <tr>\n",
       "      <th>7</th>\n",
       "      <td>1993-09-02</td>\n",
       "      <td>1998-06-10</td>\n",
       "    </tr>\n",
       "    <tr>\n",
       "      <th>8</th>\n",
       "      <td>1993-06-10</td>\n",
       "      <td>1993-11-11</td>\n",
       "    </tr>\n",
       "    <tr>\n",
       "      <th>9</th>\n",
       "      <td>1990-01-25</td>\n",
       "      <td>1994-10-02</td>\n",
       "    </tr>\n",
       "    <tr>\n",
       "      <th>10</th>\n",
       "      <td>1992-02-23</td>\n",
       "      <td>1998-12-30</td>\n",
       "    </tr>\n",
       "    <tr>\n",
       "      <th>11</th>\n",
       "      <td>1996-07-12</td>\n",
       "      <td>1997-07-14</td>\n",
       "    </tr>\n",
       "    <tr>\n",
       "      <th>18</th>\n",
       "      <td>1995-06-18</td>\n",
       "      <td>1997-10-13</td>\n",
       "    </tr>\n",
       "    <tr>\n",
       "      <th>19</th>\n",
       "      <td>1998-05-10</td>\n",
       "      <td>1998-05-19</td>\n",
       "    </tr>\n",
       "    <tr>\n",
       "      <th>20</th>\n",
       "      <td>1992-10-17</td>\n",
       "      <td>1998-10-06</td>\n",
       "    </tr>\n",
       "    <tr>\n",
       "      <th>23</th>\n",
       "      <td>1992-05-30</td>\n",
       "      <td>1999-08-15</td>\n",
       "    </tr>\n",
       "    <tr>\n",
       "      <th>26</th>\n",
       "      <td>1996-04-11</td>\n",
       "      <td>1998-05-04</td>\n",
       "    </tr>\n",
       "    <tr>\n",
       "      <th>30</th>\n",
       "      <td>1998-10-22</td>\n",
       "      <td>1999-01-11</td>\n",
       "    </tr>\n",
       "    <tr>\n",
       "      <th>32</th>\n",
       "      <td>1990-01-20</td>\n",
       "      <td>1998-07-24</td>\n",
       "    </tr>\n",
       "    <tr>\n",
       "      <th>33</th>\n",
       "      <td>1994-09-21</td>\n",
       "      <td>1996-10-12</td>\n",
       "    </tr>\n",
       "    <tr>\n",
       "      <th>35</th>\n",
       "      <td>1993-09-10</td>\n",
       "      <td>1996-04-28</td>\n",
       "    </tr>\n",
       "    <tr>\n",
       "      <th>36</th>\n",
       "      <td>1990-05-15</td>\n",
       "      <td>1994-02-14</td>\n",
       "    </tr>\n",
       "    <tr>\n",
       "      <th>39</th>\n",
       "      <td>1990-03-26</td>\n",
       "      <td>1993-01-25</td>\n",
       "    </tr>\n",
       "    <tr>\n",
       "      <th>41</th>\n",
       "      <td>1992-02-06</td>\n",
       "      <td>1996-05-10</td>\n",
       "    </tr>\n",
       "    <tr>\n",
       "      <th>46</th>\n",
       "      <td>1995-09-05</td>\n",
       "      <td>1996-07-19</td>\n",
       "    </tr>\n",
       "    <tr>\n",
       "      <th>50</th>\n",
       "      <td>1991-05-03</td>\n",
       "      <td>1999-07-17</td>\n",
       "    </tr>\n",
       "    <tr>\n",
       "      <th>52</th>\n",
       "      <td>1994-09-02</td>\n",
       "      <td>1997-05-14</td>\n",
       "    </tr>\n",
       "    <tr>\n",
       "      <th>53</th>\n",
       "      <td>1995-11-29</td>\n",
       "      <td>1998-06-23</td>\n",
       "    </tr>\n",
       "    <tr>\n",
       "      <th>54</th>\n",
       "      <td>1996-08-07</td>\n",
       "      <td>1998-04-04</td>\n",
       "    </tr>\n",
       "    <tr>\n",
       "      <th>58</th>\n",
       "      <td>1995-02-11</td>\n",
       "      <td>1995-04-16</td>\n",
       "    </tr>\n",
       "    <tr>\n",
       "      <th>59</th>\n",
       "      <td>1995-09-29</td>\n",
       "      <td>1995-12-16</td>\n",
       "    </tr>\n",
       "    <tr>\n",
       "      <th>60</th>\n",
       "      <td>1993-02-14</td>\n",
       "      <td>1995-08-06</td>\n",
       "    </tr>\n",
       "    <tr>\n",
       "      <th>63</th>\n",
       "      <td>1990-12-22</td>\n",
       "      <td>1995-09-02</td>\n",
       "    </tr>\n",
       "    <tr>\n",
       "      <th>...</th>\n",
       "      <td>...</td>\n",
       "      <td>...</td>\n",
       "    </tr>\n",
       "    <tr>\n",
       "      <th>932</th>\n",
       "      <td>1997-07-25</td>\n",
       "      <td>1998-04-09</td>\n",
       "    </tr>\n",
       "    <tr>\n",
       "      <th>934</th>\n",
       "      <td>1995-05-22</td>\n",
       "      <td>1995-07-11</td>\n",
       "    </tr>\n",
       "    <tr>\n",
       "      <th>935</th>\n",
       "      <td>1990-09-26</td>\n",
       "      <td>1998-03-07</td>\n",
       "    </tr>\n",
       "    <tr>\n",
       "      <th>938</th>\n",
       "      <td>1993-03-24</td>\n",
       "      <td>1995-07-15</td>\n",
       "    </tr>\n",
       "    <tr>\n",
       "      <th>939</th>\n",
       "      <td>1998-10-01</td>\n",
       "      <td>1998-12-07</td>\n",
       "    </tr>\n",
       "    <tr>\n",
       "      <th>942</th>\n",
       "      <td>1992-04-14</td>\n",
       "      <td>1997-03-03</td>\n",
       "    </tr>\n",
       "    <tr>\n",
       "      <th>943</th>\n",
       "      <td>1991-01-30</td>\n",
       "      <td>1999-12-02</td>\n",
       "    </tr>\n",
       "    <tr>\n",
       "      <th>945</th>\n",
       "      <td>1992-10-27</td>\n",
       "      <td>1994-11-03</td>\n",
       "    </tr>\n",
       "    <tr>\n",
       "      <th>946</th>\n",
       "      <td>1991-07-02</td>\n",
       "      <td>1996-02-23</td>\n",
       "    </tr>\n",
       "    <tr>\n",
       "      <th>947</th>\n",
       "      <td>1991-06-18</td>\n",
       "      <td>1999-06-11</td>\n",
       "    </tr>\n",
       "    <tr>\n",
       "      <th>949</th>\n",
       "      <td>1991-10-07</td>\n",
       "      <td>1992-01-07</td>\n",
       "    </tr>\n",
       "    <tr>\n",
       "      <th>951</th>\n",
       "      <td>1991-10-02</td>\n",
       "      <td>1994-04-18</td>\n",
       "    </tr>\n",
       "    <tr>\n",
       "      <th>953</th>\n",
       "      <td>1991-09-26</td>\n",
       "      <td>1994-05-08</td>\n",
       "    </tr>\n",
       "    <tr>\n",
       "      <th>954</th>\n",
       "      <td>1993-08-08</td>\n",
       "      <td>1994-01-23</td>\n",
       "    </tr>\n",
       "    <tr>\n",
       "      <th>956</th>\n",
       "      <td>1995-08-23</td>\n",
       "      <td>1999-01-10</td>\n",
       "    </tr>\n",
       "    <tr>\n",
       "      <th>957</th>\n",
       "      <td>1994-10-01</td>\n",
       "      <td>1999-07-25</td>\n",
       "    </tr>\n",
       "    <tr>\n",
       "      <th>958</th>\n",
       "      <td>1990-04-26</td>\n",
       "      <td>1997-06-29</td>\n",
       "    </tr>\n",
       "    <tr>\n",
       "      <th>969</th>\n",
       "      <td>1996-09-24</td>\n",
       "      <td>1996-11-16</td>\n",
       "    </tr>\n",
       "    <tr>\n",
       "      <th>972</th>\n",
       "      <td>1990-02-07</td>\n",
       "      <td>1995-11-05</td>\n",
       "    </tr>\n",
       "    <tr>\n",
       "      <th>975</th>\n",
       "      <td>1997-06-18</td>\n",
       "      <td>1997-11-02</td>\n",
       "    </tr>\n",
       "    <tr>\n",
       "      <th>981</th>\n",
       "      <td>1997-01-31</td>\n",
       "      <td>1998-03-04</td>\n",
       "    </tr>\n",
       "    <tr>\n",
       "      <th>983</th>\n",
       "      <td>1994-12-30</td>\n",
       "      <td>1997-07-29</td>\n",
       "    </tr>\n",
       "    <tr>\n",
       "      <th>984</th>\n",
       "      <td>1991-07-25</td>\n",
       "      <td>1999-02-09</td>\n",
       "    </tr>\n",
       "    <tr>\n",
       "      <th>985</th>\n",
       "      <td>1995-07-26</td>\n",
       "      <td>1996-06-18</td>\n",
       "    </tr>\n",
       "    <tr>\n",
       "      <th>986</th>\n",
       "      <td>1990-12-10</td>\n",
       "      <td>1992-12-16</td>\n",
       "    </tr>\n",
       "    <tr>\n",
       "      <th>990</th>\n",
       "      <td>1991-06-24</td>\n",
       "      <td>1996-02-02</td>\n",
       "    </tr>\n",
       "    <tr>\n",
       "      <th>991</th>\n",
       "      <td>1991-09-09</td>\n",
       "      <td>1998-03-30</td>\n",
       "    </tr>\n",
       "    <tr>\n",
       "      <th>993</th>\n",
       "      <td>1990-11-16</td>\n",
       "      <td>1998-04-27</td>\n",
       "    </tr>\n",
       "    <tr>\n",
       "      <th>994</th>\n",
       "      <td>1993-06-03</td>\n",
       "      <td>1993-06-13</td>\n",
       "    </tr>\n",
       "    <tr>\n",
       "      <th>997</th>\n",
       "      <td>1990-01-04</td>\n",
       "      <td>1991-10-03</td>\n",
       "    </tr>\n",
       "  </tbody>\n",
       "</table>\n",
       "<p>501 rows × 2 columns</p>\n",
       "</div>"
      ],
      "text/plain": [
       "    order_date delivery_date\n",
       "ID                          \n",
       "1   1998-05-24    1999-02-05\n",
       "2   1992-04-22    1998-03-06\n",
       "4   1991-02-10    1992-08-26\n",
       "5   1992-07-21    1997-11-20\n",
       "7   1993-09-02    1998-06-10\n",
       "8   1993-06-10    1993-11-11\n",
       "9   1990-01-25    1994-10-02\n",
       "10  1992-02-23    1998-12-30\n",
       "11  1996-07-12    1997-07-14\n",
       "18  1995-06-18    1997-10-13\n",
       "19  1998-05-10    1998-05-19\n",
       "20  1992-10-17    1998-10-06\n",
       "23  1992-05-30    1999-08-15\n",
       "26  1996-04-11    1998-05-04\n",
       "30  1998-10-22    1999-01-11\n",
       "32  1990-01-20    1998-07-24\n",
       "33  1994-09-21    1996-10-12\n",
       "35  1993-09-10    1996-04-28\n",
       "36  1990-05-15    1994-02-14\n",
       "39  1990-03-26    1993-01-25\n",
       "41  1992-02-06    1996-05-10\n",
       "46  1995-09-05    1996-07-19\n",
       "50  1991-05-03    1999-07-17\n",
       "52  1994-09-02    1997-05-14\n",
       "53  1995-11-29    1998-06-23\n",
       "54  1996-08-07    1998-04-04\n",
       "58  1995-02-11    1995-04-16\n",
       "59  1995-09-29    1995-12-16\n",
       "60  1993-02-14    1995-08-06\n",
       "63  1990-12-22    1995-09-02\n",
       "..         ...           ...\n",
       "932 1997-07-25    1998-04-09\n",
       "934 1995-05-22    1995-07-11\n",
       "935 1990-09-26    1998-03-07\n",
       "938 1993-03-24    1995-07-15\n",
       "939 1998-10-01    1998-12-07\n",
       "942 1992-04-14    1997-03-03\n",
       "943 1991-01-30    1999-12-02\n",
       "945 1992-10-27    1994-11-03\n",
       "946 1991-07-02    1996-02-23\n",
       "947 1991-06-18    1999-06-11\n",
       "949 1991-10-07    1992-01-07\n",
       "951 1991-10-02    1994-04-18\n",
       "953 1991-09-26    1994-05-08\n",
       "954 1993-08-08    1994-01-23\n",
       "956 1995-08-23    1999-01-10\n",
       "957 1994-10-01    1999-07-25\n",
       "958 1990-04-26    1997-06-29\n",
       "969 1996-09-24    1996-11-16\n",
       "972 1990-02-07    1995-11-05\n",
       "975 1997-06-18    1997-11-02\n",
       "981 1997-01-31    1998-03-04\n",
       "983 1994-12-30    1997-07-29\n",
       "984 1991-07-25    1999-02-09\n",
       "985 1995-07-26    1996-06-18\n",
       "986 1990-12-10    1992-12-16\n",
       "990 1991-06-24    1996-02-02\n",
       "991 1991-09-09    1998-03-30\n",
       "993 1990-11-16    1998-04-27\n",
       "994 1993-06-03    1993-06-13\n",
       "997 1990-01-04    1991-10-03\n",
       "\n",
       "[501 rows x 2 columns]"
      ]
     },
     "execution_count": 29,
     "metadata": {},
     "output_type": "execute_result"
    }
   ],
   "source": [
    "ecom=pd.read_csv(\"ecommerce.csv\",index_col=\"ID\",parse_dates=[\"order_date\",\"delivery_date\"])\n",
    "ecom"
   ]
  },
  {
   "cell_type": "code",
   "execution_count": 32,
   "metadata": {
    "collapsed": true
   },
   "outputs": [
    {
     "data": {
      "text/plain": [
       "ID\n",
       "1      257 days\n",
       "2     2144 days\n",
       "4      563 days\n",
       "5     1948 days\n",
       "7     1742 days\n",
       "8      154 days\n",
       "9     1711 days\n",
       "10    2502 days\n",
       "11     367 days\n",
       "18     848 days\n",
       "19       9 days\n",
       "20    2180 days\n",
       "23    2633 days\n",
       "26     753 days\n",
       "30      81 days\n",
       "32    3107 days\n",
       "33     752 days\n",
       "35     961 days\n",
       "36    1371 days\n",
       "39    1036 days\n",
       "41    1555 days\n",
       "46     318 days\n",
       "50    2997 days\n",
       "52     985 days\n",
       "53     937 days\n",
       "54     605 days\n",
       "58      64 days\n",
       "59      78 days\n",
       "60     903 days\n",
       "63    1715 days\n",
       "         ...   \n",
       "932    258 days\n",
       "934     50 days\n",
       "935   2719 days\n",
       "938    843 days\n",
       "939     67 days\n",
       "942   1784 days\n",
       "943   3228 days\n",
       "945    737 days\n",
       "946   1697 days\n",
       "947   2915 days\n",
       "949     92 days\n",
       "951    929 days\n",
       "953    955 days\n",
       "954    168 days\n",
       "956   1236 days\n",
       "957   1758 days\n",
       "958   2621 days\n",
       "969     53 days\n",
       "972   2097 days\n",
       "975    137 days\n",
       "981    397 days\n",
       "983    942 days\n",
       "984   2756 days\n",
       "985    328 days\n",
       "986    737 days\n",
       "990   1684 days\n",
       "991   2394 days\n",
       "993   2719 days\n",
       "994     10 days\n",
       "997    637 days\n",
       "Length: 501, dtype: timedelta64[ns]"
      ]
     },
     "execution_count": 32,
     "metadata": {},
     "output_type": "execute_result"
    }
   ],
   "source": [
    "ecom[\"delivery_date\"]-ecom[\"order_date\"]"
   ]
  },
  {
   "cell_type": "code",
   "execution_count": 33,
   "metadata": {},
   "outputs": [],
   "source": [
    "ecom[\"deliver_time\"]=ecom[\"delivery_date\"]-ecom[\"order_date\"]"
   ]
  },
  {
   "cell_type": "code",
   "execution_count": 34,
   "metadata": {
    "collapsed": true
   },
   "outputs": [
    {
     "data": {
      "text/html": [
       "<div>\n",
       "<style scoped>\n",
       "    .dataframe tbody tr th:only-of-type {\n",
       "        vertical-align: middle;\n",
       "    }\n",
       "\n",
       "    .dataframe tbody tr th {\n",
       "        vertical-align: top;\n",
       "    }\n",
       "\n",
       "    .dataframe thead th {\n",
       "        text-align: right;\n",
       "    }\n",
       "</style>\n",
       "<table border=\"1\" class=\"dataframe\">\n",
       "  <thead>\n",
       "    <tr style=\"text-align: right;\">\n",
       "      <th></th>\n",
       "      <th>order_date</th>\n",
       "      <th>delivery_date</th>\n",
       "      <th>deliver_time</th>\n",
       "    </tr>\n",
       "    <tr>\n",
       "      <th>ID</th>\n",
       "      <th></th>\n",
       "      <th></th>\n",
       "      <th></th>\n",
       "    </tr>\n",
       "  </thead>\n",
       "  <tbody>\n",
       "    <tr>\n",
       "      <th>1</th>\n",
       "      <td>1998-05-24</td>\n",
       "      <td>1999-02-05</td>\n",
       "      <td>257 days</td>\n",
       "    </tr>\n",
       "    <tr>\n",
       "      <th>2</th>\n",
       "      <td>1992-04-22</td>\n",
       "      <td>1998-03-06</td>\n",
       "      <td>2144 days</td>\n",
       "    </tr>\n",
       "    <tr>\n",
       "      <th>4</th>\n",
       "      <td>1991-02-10</td>\n",
       "      <td>1992-08-26</td>\n",
       "      <td>563 days</td>\n",
       "    </tr>\n",
       "    <tr>\n",
       "      <th>5</th>\n",
       "      <td>1992-07-21</td>\n",
       "      <td>1997-11-20</td>\n",
       "      <td>1948 days</td>\n",
       "    </tr>\n",
       "    <tr>\n",
       "      <th>7</th>\n",
       "      <td>1993-09-02</td>\n",
       "      <td>1998-06-10</td>\n",
       "      <td>1742 days</td>\n",
       "    </tr>\n",
       "  </tbody>\n",
       "</table>\n",
       "</div>"
      ],
      "text/plain": [
       "   order_date delivery_date deliver_time\n",
       "ID                                      \n",
       "1  1998-05-24    1999-02-05     257 days\n",
       "2  1992-04-22    1998-03-06    2144 days\n",
       "4  1991-02-10    1992-08-26     563 days\n",
       "5  1992-07-21    1997-11-20    1948 days\n",
       "7  1993-09-02    1998-06-10    1742 days"
      ]
     },
     "execution_count": 34,
     "metadata": {},
     "output_type": "execute_result"
    }
   ],
   "source": [
    "ecom.head()"
   ]
  },
  {
   "cell_type": "code",
   "execution_count": 35,
   "metadata": {},
   "outputs": [
    {
     "data": {
      "text/plain": [
       "Timedelta('3583 days 00:00:00')"
      ]
     },
     "execution_count": 35,
     "metadata": {},
     "output_type": "execute_result"
    }
   ],
   "source": [
    "ecom[\"deliver_time\"].ipynb_checkpoints/max()"
   ]
  },
  {
   "cell_type": "code",
   "execution_count": null,
   "metadata": {},
   "outputs": [],
   "source": []
  }
 ],
 "metadata": {
  "kernelspec": {
   "display_name": "Python 3",
   "language": "python",
   "name": "python3"
  },
  "language_info": {
   "codemirror_mode": {
    "name": "ipython",
    "version": 3
   },
   "file_extension": ".py",
   "mimetype": "text/x-python",
   "name": "python",
   "nbconvert_exporter": "python",
   "pygments_lexer": "ipython3",
   "version": "3.7.2"
  }
 },
 "nbformat": 4,
 "nbformat_minor": 2
}
