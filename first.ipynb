{
 "cells": [
  {
   "cell_type": "code",
   "execution_count": 3,
   "metadata": {},
   "outputs": [],
   "source": [
    "import numpy"
   ]
  },
  {
   "cell_type": "code",
   "execution_count": 4,
   "metadata": {},
   "outputs": [
    {
     "name": "stdout",
     "output_type": "stream",
     "text": [
      "Array created using passed list:\n",
      " [[1. 2. 4.]\n",
      " [5. 8. 7.]]\n",
      "\n",
      "Array created using passed tuple:\n",
      " [1 3 2]\n",
      "\n",
      "An array initialized with all zeros:\n",
      " [[0. 0. 0. 0.]\n",
      " [0. 0. 0. 0.]\n",
      " [0. 0. 0. 0.]]\n",
      "\n",
      "An array initialized with all 6s.Array type is complex:\n",
      " [[6.+0.j 6.+0.j 6.+0.j]\n",
      " [6.+0.j 6.+0.j 6.+0.j]\n",
      " [6.+0.j 6.+0.j 6.+0.j]]\n"
     ]
    }
   ],
   "source": [
    "import numpy as np\n",
    "\n",
    "# Creating array from list with type float\n",
    "a = np.array([[1, 2, 4], [5, 8, 7]], dtype = 'float')\n",
    "print (\"Array created using passed list:\\n\", a)\n",
    "\n",
    "# Creating array from tuple\n",
    "b = np.array((1 , 3, 2))\n",
    "print (\"\\nArray created using passed tuple:\\n\", b)\n",
    "\n",
    "# Creating a 3X4 array with all zeros\n",
    "c = np.zeros((3, 4))\n",
    "print (\"\\nAn array initialized with all zeros:\\n\", c)\n",
    "\n",
    "# Create a constant value array of complex type\n",
    "d = np.full((3, 3), 6, dtype = 'complex')\n",
    "print (\"\\nAn array initialized with all 6s.\" \n",
    "            \"Array type is complex:\\n\", d)\n"
   ]
  },
  {
   "cell_type": "code",
   "execution_count": 5,
   "metadata": {},
   "outputs": [
    {
     "name": "stdout",
     "output_type": "stream",
     "text": [
      "Empty DataFrame\n",
      "Columns: []\n",
      "Index: []\n"
     ]
    }
   ],
   "source": [
    "\n",
    "# import pandas as pd \n",
    "import pandas as pd \n",
    "  \n",
    "# Calling DataFrame constructor \n",
    "df = pd.DataFrame() \n",
    "  \n",
    "print(df) \n"
   ]
  },
  {
   "cell_type": "code",
   "execution_count": 6,
   "metadata": {},
   "outputs": [
    {
     "name": "stdout",
     "output_type": "stream",
     "text": [
      "        0\n",
      "0   Geeks\n",
      "1     For\n",
      "2   Geeks\n",
      "3      is\n",
      "4  portal\n",
      "5     for\n",
      "6   Geeks\n"
     ]
    }
   ],
   "source": [
    "import pandas as pd \n",
    "  \n",
    "# list of strings \n",
    "lst = ['Geeks', 'For', 'Geeks', 'is',  \n",
    "            'portal', 'for', 'Geeks'] \n",
    "  \n",
    "# Calling DataFrame constructor on list \n",
    "df = pd.DataFrame(lst) \n",
    "print(df) "
   ]
  },
  {
   "cell_type": "code",
   "execution_count": 1,
   "metadata": {},
   "outputs": [
    {
     "data": {
      "text/plain": [
       "2"
      ]
     },
     "execution_count": 1,
     "metadata": {},
     "output_type": "execute_result"
    }
   ],
   "source": [
    "1+1"
   ]
  },
  {
   "cell_type": "code",
   "execution_count": 2,
   "metadata": {},
   "outputs": [
    {
     "data": {
      "text/plain": [
       "7"
      ]
     },
     "execution_count": 2,
     "metadata": {},
     "output_type": "execute_result"
    }
   ],
   "source": [
    "2+5"
   ]
  },
  {
   "cell_type": "code",
   "execution_count": 3,
   "metadata": {},
   "outputs": [
    {
     "name": "stdout",
     "output_type": "stream",
     "text": [
      "hello\n"
     ]
    }
   ],
   "source": [
    "print(\"hello\")"
   ]
  },
  {
   "cell_type": "code",
   "execution_count": 1,
   "metadata": {},
   "outputs": [
    {
     "data": {
      "text/plain": [
       "8"
      ]
     },
     "execution_count": 1,
     "metadata": {},
     "output_type": "execute_result"
    }
   ],
   "source": [
    "x=5\n",
    "x+3"
   ]
  },
  {
   "cell_type": "code",
   "execution_count": 1,
   "metadata": {},
   "outputs": [
    {
     "data": {
      "text/plain": [
       "2"
      ]
     },
     "execution_count": 1,
     "metadata": {},
     "output_type": "execute_result"
    }
   ],
   "source": [
    "1+1"
   ]
  },
  {
   "cell_type": "code",
   "execution_count": null,
   "metadata": {},
   "outputs": [],
   "source": []
  }
 ],
 "metadata": {
  "kernelspec": {
   "display_name": "Python 3",
   "language": "python",
   "name": "python3"
  },
  "language_info": {
   "codemirror_mode": {
    "name": "ipython",
    "version": 3
   },
   "file_extension": ".py",
   "mimetype": "text/x-python",
   "name": "python",
   "nbconvert_exporter": "python",
   "pygments_lexer": "ipython3",
   "version": "3.7.2"
  }
 },
 "nbformat": 4,
 "nbformat_minor": 2
}
